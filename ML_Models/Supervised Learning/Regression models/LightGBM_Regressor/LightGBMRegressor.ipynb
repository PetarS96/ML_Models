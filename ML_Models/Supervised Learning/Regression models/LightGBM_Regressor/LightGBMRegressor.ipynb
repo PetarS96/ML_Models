{
 "cells": [
  {
   "cell_type": "markdown",
   "metadata": {},
   "source": [
    "# **LgithGBMRegressor Model Theory**\n"
   ]
  },
  {
   "cell_type": "markdown",
   "metadata": {},
   "source": [
    "## Theory\n",
    "LightGBMRegressor is a gradient boosting framework that uses decision trees for regression tasks, but it is optimized for speed and efficiency. It is designed to handle large datasets with high dimensionality and supports categorical features natively. LightGBM uses a technique called gradient-based one-side sampling (GOSS) and exclusive feature bundling (EFB) to speed up the training process while maintaining high accuracy.\n",
    "\n",
    "The model function for LightGBMRegressor is similar to other gradient boosting algorithms, where the final prediction is a weighted sum of the predictions from all decision trees:\n",
    "\n",
    "$$ f(x) = \\sum_{t=1}^{T} \\alpha_t h_t(x) $$\n",
    "\n",
    "Where:\n",
    "- $f(x)$ is the predicted output.\n",
    "- $T$ is the number of trees.\n",
    "- $\\alpha_t$ is the weight of the $t$-th tree.\n",
    "- $h_t(x)$ is the prediction of the $t$-th tree for input $x$.\n",
    "\n",
    "## Model Training\n",
    "\n",
    "### Forward Pass\n",
    "\n",
    "In LightGBM, the forward pass builds decision trees iteratively. Each tree is trained to predict the residuals of the previous predictions, and the training process is accelerated using optimizations like GOSS and EFB. The goal is to correct the errors made by the previous trees in the ensemble.\n",
    "\n",
    "### Cost Function\n",
    "\n",
    "LightGBMRegressor typically uses the mean squared error (MSE) as the loss function for regression tasks. The objective function is:\n",
    "\n",
    "$$ J(\\alpha) = \\frac{1}{m} \\sum_{i=1}^{m}(f(x^{(i)}) - y^{(i)})^2 $$\n",
    "\n",
    "Where:\n",
    "- $J(\\alpha)$ is the cost function (MSE).\n",
    "- $m$ is the number of training examples.\n",
    "- $f(x^{(i)})$ is the predicted output for the $i$-th example.\n",
    "- $y^{(i)}$ is the actual output for the $i$-th example.\n",
    "\n",
    "### Gradient Boosting\n",
    "\n",
    "LightGBMRegressor applies gradient boosting using the gradient of the loss function to update the decision trees. It employs gradient-based one-side sampling (GOSS), which helps speed up the training process by focusing on the samples with large gradients, and exclusive feature bundling (EFB), which groups features that rarely appear together to reduce the dimensionality.\n",
    "\n",
    "The update for each tree is similar to other gradient boosting algorithms:\n",
    "\n",
    "$$ h_t(x) = -\\frac{\\partial J}{\\partial f(x)} $$\n",
    "\n",
    "Where:\n",
    "- $h_t(x)$ is the tree added at stage $t$.\n",
    "- $\\frac{\\partial J}{\\partial f(x)}$ is the gradient of the cost function with respect to the prediction at each stage.\n",
    "\n",
    "## Training Process\n",
    "\n",
    "The training process in LightGBMRegressor involves the following steps:\n",
    "1. **Initial prediction**: Start with an initial prediction, typically the mean of the target variable.\n",
    "2. **Compute residuals**: Compute the residuals (errors) by subtracting the current predictions from the actual target values.\n",
    "3. **Fit decision trees**: Fit decision trees to the residuals, using optimizations like GOSS and EFB to speed up the training.\n",
    "4. **Update prediction**: Add the output of the new tree to the current prediction.\n",
    "5. **Repeat**: Repeat the above steps for a predefined number of trees or until further improvement is minimal.\n",
    "\n",
    "LightGBMRegressor also supports early stopping, where training can be halted if the model's performance stops improving on a validation set. It also has hyperparameters for controlling the learning rate, number of trees, tree depth, and regularization techniques to prevent overfitting.\n",
    "\n",
    "By iteratively adding decision trees and using advanced optimizations, LightGBMRegressor can efficiently handle large datasets and complex patterns, while maintaining high accuracy in regression tasks.\n"
   ]
  },
  {
   "cell_type": "markdown",
   "metadata": {},
   "source": [
    "## **Model Evaluation**"
   ]
  },
  {
   "cell_type": "markdown",
   "metadata": {},
   "source": [
    "### 1. Mean Squared Error (MSE)\n",
    "\n",
    "**Formula:**\n",
    "$$\n",
    "\\text{MSE} = \\frac{1}{n} \\sum_{i=1}^{n} (y_{\\text{true}_i} - y_{\\text{pred}_i})^2\n",
    "$$\n",
    "\n",
    "**Description:**\n",
    "- **Mean Squared Error (MSE)** is a widely used metric for evaluating the accuracy of regression models.\n",
    "- It measures the average squared difference between the predicted values ($y_{\\text{pred}}$) and the actual target values ($y_{\\text{true}}$).\n",
    "- The squared differences are averaged across all data points in the dataset.\n",
    "\n",
    "**Interpretation:**\n",
    "- A lower MSE indicates a better fit of the model to the data, as it means the model's predictions are closer to the actual values.\n",
    "- MSE is sensitive to outliers because the squared differences magnify the impact of large errors.\n",
    "- **Limitations:**\n",
    "  - MSE can be hard to interpret because it is in squared units of the target variable.\n",
    "  - It disproportionately penalizes larger errors due to the squaring process.\n",
    "\n",
    "---\n",
    "\n",
    "### 2. Root Mean Squared Error (RMSE)\n",
    "\n",
    "**Formula:**\n",
    "$$\n",
    "\\text{RMSE} = \\sqrt{\\text{MSE}}\n",
    "$$\n",
    "\n",
    "**Description:**\n",
    "- **Root Mean Squared Error (RMSE)** is a variant of MSE that provides the square root of the average squared difference between predicted and actual values.\n",
    "- It is often preferred because it is in the same unit as the target variable, making it more interpretable.\n",
    "\n",
    "**Interpretation:**\n",
    "- Like MSE, a lower RMSE indicates a better fit of the model to the data.\n",
    "- RMSE is also sensitive to outliers due to the square root operation.\n",
    "- **Advantages over MSE:**\n",
    "  - RMSE provides a more intuitive interpretation since it is in the same scale as the target variable.\n",
    "  - It can be more directly compared to the values of the actual data.\n",
    "\n",
    "---\n",
    "\n",
    "### 3. R-squared ($R^2$)\n",
    "\n",
    "**Formula:**\n",
    "$$\n",
    "R^2 = 1 - \\frac{\\text{SSR}}{\\text{SST}}\n",
    "$$\n",
    "\n",
    "**Description:**\n",
    "- **R-squared ($R^2$)**, also known as the coefficient of determination, measures the proportion of the variance in the dependent variable ($y_{\\text{true}}$) that is predictable from the independent variable(s) ($y_{\\text{pred}}$) in a regression model.\n",
    "- It ranges from 0 to 1, where 0 indicates that the model does not explain any variance, and 1 indicates a perfect fit.\n",
    "\n",
    "**Interpretation:**\n",
    "- A higher $R^2$ value suggests that the model explains a larger proportion of the variance in the target variable.\n",
    "- However, $R^2$ does not provide information about the goodness of individual predictions or whether the model is overfitting or underfitting.\n",
    "- **Limitations:**\n",
    "  - $R^2$ can be misleading in cases of overfitting, especially with polynomial regression models. Even if $R^2$ is high, the model may not generalize well to unseen data.\n",
    "  - It doesn’t penalize for adding irrelevant predictors, so adjusted $R^2$ is often preferred for models with multiple predictors.\n",
    "\n",
    "---\n",
    "\n",
    "### 4. Adjusted R-squared\n",
    "\n",
    "**Formula:**\n",
    "$$\n",
    "\\text{Adjusted } R^2 = 1 - \\left(1 - R^2\\right) \\frac{n-1}{n-p-1}\n",
    "$$\n",
    "where \\(n\\) is the number of data points and \\(p\\) is the number of predictors.\n",
    "\n",
    "**Description:**\n",
    "- **Adjusted R-squared** adjusts the R-squared value to account for the number of predictors in the model, helping to prevent overfitting when adding more terms to the model.\n",
    "- Unlike $R^2$, it can decrease if the additional predictors do not improve the model significantly.\n",
    "\n",
    "**Interpretation:**\n",
    "- A higher adjusted $R^2$ suggests that the model is not just overfitting, but has genuine explanatory power with the number of predictors taken into account.\n",
    "- It is especially useful when comparing models with different numbers of predictors.\n",
    "\n",
    "---\n",
    "\n",
    "### 5. Mean Absolute Error (MAE)\n",
    "\n",
    "**Formula:**\n",
    "$$\n",
    "\\text{MAE} = \\frac{1}{n} \\sum_{i=1}^{n} |y_{\\text{true}_i} - y_{\\text{pred}_i}|\n",
    "$$\n",
    "\n",
    "**Description:**\n",
    "- **Mean Absolute Error (MAE)** measures the average of the absolute errors between the predicted and actual values.\n",
    "- Unlike MSE and RMSE, MAE is not sensitive to outliers because it does not square the errors.\n",
    "\n",
    "**Interpretation:**\n",
    "- MAE provides a straightforward understanding of the average error magnitude.\n",
    "- A lower MAE suggests better model accuracy, but it may not highlight the impact of large errors as much as MSE or RMSE."
   ]
  },
  {
   "cell_type": "markdown",
   "metadata": {},
   "source": [
    "## LightGBM template [LightGBM: LGBMRegressor](https://lightgbm.readthedocs.io/en/latest/pythonapi/lightgbm.LGBMRegressor.html)\n",
    "\n",
    "### class lightgbm.LGBMRegressor(*, boosting_type='gbdt', num_leaves=31, max_depth=-1, learning_rate=0.1, n_estimators=100, subsample_for_bin=200000, objective=None, class_weight=None, min_split_gain=0.0, min_child_weight=1e-3, min_child_samples=20, subsample=1.0, colsample_bytree=1.0, reg_alpha=0.0, reg_lambda=0.0, random_state=None, n_jobs=-1, silent=False, importance_type='split')\n",
    "\n",
    "| **Parameter**          | **Description**                                                                                                                                                                | **Default**     |\n",
    "|------------------------|--------------------------------------------------------------------------------------------------------------------------------------------------------------------------------|-----------------|\n",
    "| `boosting_type`        | Type of boosting model. Options: 'gbdt', 'dart', 'goss', 'rf'.                                                                                                                 | `'gbdt'`        |\n",
    "| `num_leaves`           | Maximum number of leaves in one tree.                                                                                                                                            | `31`            |\n",
    "| `max_depth`            | Maximum depth of a tree. -1 means no limit.                                                                                                                                     | `-1`            |\n",
    "| `learning_rate`        | Step size shrinking to prevent overfitting.                                                                                                                                     | `0.1`           |\n",
    "| `n_estimators`         | Number of boosting iterations (trees).                                                                                                                                         | `100`           |\n",
    "| `subsample_for_bin`    | Number of data points used for constructing histograms in the algorithm.                                                                                                       | `200000`        |\n",
    "| `objective`            | Objective function. For regression, use 'regression' or other options.                                                                                                         | `None`          |\n",
    "| `class_weight`         | Class weights for classification tasks.                                                                                                                                         | `None`          |\n",
    "| `min_split_gain`       | Minimum gain to make a further partition.                                                                                                                                       | `0.0`           |\n",
    "| `min_child_weight`     | Minimum sum of weights (or samples) in a child.                                                                                                                                 | `1e-3`          |\n",
    "| `min_child_samples`    | Minimum number of samples required to be in a child.                                                                                                                           | `20`            |\n",
    "| `subsample`            | Fraction of samples used for fitting each tree.                                                                                                                                 | `1.0`           |\n",
    "| `colsample_bytree`     | Fraction of features to consider for each tree.                                                                                                                                | `1.0`           |\n",
    "| `reg_alpha`            | L1 regularization term on weights.                                                                                                                                              | `0.0`           |\n",
    "| `reg_lambda`           | L2 regularization term on weights.                                                                                                                                              | `0.0`           |\n",
    "| `random_state`         | Seed for reproducibility.                                                                                                                                                       | `None`          |\n",
    "| `n_jobs`               | Number of parallel threads used for training.                                                                                                                                   | `-1`            |\n",
    "| `silent`               | Whether to suppress output messages.                                                                                                                                             | `False`         |\n",
    "| `importance_type`      | The method to calculate feature importance. Options: 'split', 'gain'.                                                                                                          | `'split'`       |\n",
    "\n",
    "-\n",
    "\n",
    "| **Attribute**          | **Description**                                                                                                                                                                |\n",
    "|------------------------|--------------------------------------------------------------------------------------------------------------------------------------------------------------------------------|\n",
    "| `best_iteration_`      | Number of iterations chosen based on early stopping.                                                                                                                            |\n",
    "| `feature_importances_` | Feature importances based on the splitting criterion (if `importance_type='split'`) or the total gain (if `importance_type='gain'`).                                           |\n",
    "| `n_features_in_`       | Number of features seen during fitting.                                                                                                                                         |\n",
    "| `booster_`             | The trained booster (LightGBM model object).                                                                                                                                   |\n",
    "\n",
    "-\n",
    "\n",
    "| **Method**             | **Description**                                                                                                                                                                |\n",
    "|------------------------|--------------------------------------------------------------------------------------------------------------------------------------------------------------------------------|\n",
    "| `fit(X, y)`            | Fit the model to the training data `X` and target values `y`.                                                                                                                 |\n",
    "| `predict(X)`           | Predict regression target for the input data `X`.                                                                                                                              |\n",
    "| `score(X, y)`          | Return the R² score for the prediction.                                                                                                                                         |\n",
    "| `get_params()`         | Get the parameters of the LGBMRegressor model.                                                                                                                                   |\n",
    "| `set_params(**params)` | Set the parameters of the LGBMRegressor model.                                                                                                                                   |\n",
    "| `feature_importances_` | Returns the importance of features based on training.                                                                                                                           |\n",
    "\n"
   ]
  },
  {
   "cell_type": "markdown",
   "metadata": {},
   "source": [
    "# KNN regression - Example"
   ]
  },
  {
   "cell_type": "markdown",
   "metadata": {},
   "source": [
    "## Data loading"
   ]
  },
  {
   "cell_type": "code",
   "execution_count": 1,
   "metadata": {},
   "outputs": [
    {
     "data": {
      "text/html": [
       "<div>\n",
       "<style scoped>\n",
       "    .dataframe tbody tr th:only-of-type {\n",
       "        vertical-align: middle;\n",
       "    }\n",
       "\n",
       "    .dataframe tbody tr th {\n",
       "        vertical-align: top;\n",
       "    }\n",
       "\n",
       "    .dataframe thead th {\n",
       "        text-align: right;\n",
       "    }\n",
       "</style>\n",
       "<table border=\"1\" class=\"dataframe\">\n",
       "  <thead>\n",
       "    <tr style=\"text-align: right;\">\n",
       "      <th></th>\n",
       "      <th>Unnamed: 0</th>\n",
       "      <th>carat</th>\n",
       "      <th>depth</th>\n",
       "      <th>table</th>\n",
       "      <th>price</th>\n",
       "      <th>x</th>\n",
       "      <th>y</th>\n",
       "      <th>z</th>\n",
       "    </tr>\n",
       "  </thead>\n",
       "  <tbody>\n",
       "    <tr>\n",
       "      <th>count</th>\n",
       "      <td>53940.000000</td>\n",
       "      <td>53940.000000</td>\n",
       "      <td>53940.000000</td>\n",
       "      <td>53940.000000</td>\n",
       "      <td>53940.000000</td>\n",
       "      <td>53940.000000</td>\n",
       "      <td>53940.000000</td>\n",
       "      <td>53940.000000</td>\n",
       "    </tr>\n",
       "    <tr>\n",
       "      <th>mean</th>\n",
       "      <td>26970.500000</td>\n",
       "      <td>0.797940</td>\n",
       "      <td>61.749405</td>\n",
       "      <td>57.457184</td>\n",
       "      <td>3932.799722</td>\n",
       "      <td>5.731157</td>\n",
       "      <td>5.734526</td>\n",
       "      <td>3.538734</td>\n",
       "    </tr>\n",
       "    <tr>\n",
       "      <th>std</th>\n",
       "      <td>15571.281097</td>\n",
       "      <td>0.474011</td>\n",
       "      <td>1.432621</td>\n",
       "      <td>2.234491</td>\n",
       "      <td>3989.439738</td>\n",
       "      <td>1.121761</td>\n",
       "      <td>1.142135</td>\n",
       "      <td>0.705699</td>\n",
       "    </tr>\n",
       "    <tr>\n",
       "      <th>min</th>\n",
       "      <td>1.000000</td>\n",
       "      <td>0.200000</td>\n",
       "      <td>43.000000</td>\n",
       "      <td>43.000000</td>\n",
       "      <td>326.000000</td>\n",
       "      <td>0.000000</td>\n",
       "      <td>0.000000</td>\n",
       "      <td>0.000000</td>\n",
       "    </tr>\n",
       "    <tr>\n",
       "      <th>25%</th>\n",
       "      <td>13485.750000</td>\n",
       "      <td>0.400000</td>\n",
       "      <td>61.000000</td>\n",
       "      <td>56.000000</td>\n",
       "      <td>950.000000</td>\n",
       "      <td>4.710000</td>\n",
       "      <td>4.720000</td>\n",
       "      <td>2.910000</td>\n",
       "    </tr>\n",
       "    <tr>\n",
       "      <th>50%</th>\n",
       "      <td>26970.500000</td>\n",
       "      <td>0.700000</td>\n",
       "      <td>61.800000</td>\n",
       "      <td>57.000000</td>\n",
       "      <td>2401.000000</td>\n",
       "      <td>5.700000</td>\n",
       "      <td>5.710000</td>\n",
       "      <td>3.530000</td>\n",
       "    </tr>\n",
       "    <tr>\n",
       "      <th>75%</th>\n",
       "      <td>40455.250000</td>\n",
       "      <td>1.040000</td>\n",
       "      <td>62.500000</td>\n",
       "      <td>59.000000</td>\n",
       "      <td>5324.250000</td>\n",
       "      <td>6.540000</td>\n",
       "      <td>6.540000</td>\n",
       "      <td>4.040000</td>\n",
       "    </tr>\n",
       "    <tr>\n",
       "      <th>max</th>\n",
       "      <td>53940.000000</td>\n",
       "      <td>5.010000</td>\n",
       "      <td>79.000000</td>\n",
       "      <td>95.000000</td>\n",
       "      <td>18823.000000</td>\n",
       "      <td>10.740000</td>\n",
       "      <td>58.900000</td>\n",
       "      <td>31.800000</td>\n",
       "    </tr>\n",
       "  </tbody>\n",
       "</table>\n",
       "</div>"
      ],
      "text/plain": [
       "         Unnamed: 0         carat         depth         table         price  \\\n",
       "count  53940.000000  53940.000000  53940.000000  53940.000000  53940.000000   \n",
       "mean   26970.500000      0.797940     61.749405     57.457184   3932.799722   \n",
       "std    15571.281097      0.474011      1.432621      2.234491   3989.439738   \n",
       "min        1.000000      0.200000     43.000000     43.000000    326.000000   \n",
       "25%    13485.750000      0.400000     61.000000     56.000000    950.000000   \n",
       "50%    26970.500000      0.700000     61.800000     57.000000   2401.000000   \n",
       "75%    40455.250000      1.040000     62.500000     59.000000   5324.250000   \n",
       "max    53940.000000      5.010000     79.000000     95.000000  18823.000000   \n",
       "\n",
       "                  x             y             z  \n",
       "count  53940.000000  53940.000000  53940.000000  \n",
       "mean       5.731157      5.734526      3.538734  \n",
       "std        1.121761      1.142135      0.705699  \n",
       "min        0.000000      0.000000      0.000000  \n",
       "25%        4.710000      4.720000      2.910000  \n",
       "50%        5.700000      5.710000      3.530000  \n",
       "75%        6.540000      6.540000      4.040000  \n",
       "max       10.740000     58.900000     31.800000  "
      ]
     },
     "execution_count": 1,
     "metadata": {},
     "output_type": "execute_result"
    }
   ],
   "source": [
    "# Loading Libraries\n",
    "import pandas as pd # for data analysis\n",
    "\n",
    "%matplotlib inline\n",
    "\n",
    "diamondprediction_eda=pd.read_csv('./data/diamonds.csv')\n",
    "\n",
    "diamondprediction_eda.describe()"
   ]
  },
  {
   "cell_type": "markdown",
   "metadata": {},
   "source": [
    "##  Data processing"
   ]
  },
  {
   "cell_type": "code",
   "execution_count": 2,
   "metadata": {},
   "outputs": [
    {
     "name": "stdout",
     "output_type": "stream",
     "text": [
      "Duplicate Rows except first occurrence based on all columns are :\n",
      "0\n",
      "(53940, 11)\n",
      "Empty DataFrame\n",
      "Columns: [Unnamed: 0, carat, cut, color, clarity, depth, table, price, x, y, z]\n",
      "Index: []\n"
     ]
    }
   ],
   "source": [
    "# Identify Duplicate Records\n",
    "duplicate_records = diamondprediction_eda[diamondprediction_eda.duplicated()]\n",
    "print(\"Duplicate Rows except first occurrence based on all columns are :\")\n",
    "print(len(duplicate_records))\n",
    "print(diamondprediction_eda.shape)\n",
    "print(duplicate_records.head(2))"
   ]
  },
  {
   "cell_type": "code",
   "execution_count": 3,
   "metadata": {},
   "outputs": [
    {
     "data": {
      "text/plain": [
       "Unnamed: 0    0\n",
       "carat         0\n",
       "cut           0\n",
       "color         0\n",
       "clarity       0\n",
       "depth         0\n",
       "table         0\n",
       "price         0\n",
       "x             0\n",
       "y             0\n",
       "z             0\n",
       "dtype: int64"
      ]
     },
     "execution_count": 3,
     "metadata": {},
     "output_type": "execute_result"
    }
   ],
   "source": [
    "diamondprediction_eda.isnull().sum()"
   ]
  },
  {
   "cell_type": "code",
   "execution_count": 4,
   "metadata": {},
   "outputs": [
    {
     "data": {
      "text/html": [
       "<div>\n",
       "<style scoped>\n",
       "    .dataframe tbody tr th:only-of-type {\n",
       "        vertical-align: middle;\n",
       "    }\n",
       "\n",
       "    .dataframe tbody tr th {\n",
       "        vertical-align: top;\n",
       "    }\n",
       "\n",
       "    .dataframe thead th {\n",
       "        text-align: right;\n",
       "    }\n",
       "</style>\n",
       "<table border=\"1\" class=\"dataframe\">\n",
       "  <thead>\n",
       "    <tr style=\"text-align: right;\">\n",
       "      <th></th>\n",
       "      <th>cut</th>\n",
       "      <th>color</th>\n",
       "      <th>clarity</th>\n",
       "    </tr>\n",
       "  </thead>\n",
       "  <tbody>\n",
       "    <tr>\n",
       "      <th>count</th>\n",
       "      <td>53940</td>\n",
       "      <td>53940</td>\n",
       "      <td>53940</td>\n",
       "    </tr>\n",
       "    <tr>\n",
       "      <th>unique</th>\n",
       "      <td>5</td>\n",
       "      <td>7</td>\n",
       "      <td>8</td>\n",
       "    </tr>\n",
       "    <tr>\n",
       "      <th>top</th>\n",
       "      <td>Ideal</td>\n",
       "      <td>G</td>\n",
       "      <td>SI1</td>\n",
       "    </tr>\n",
       "    <tr>\n",
       "      <th>freq</th>\n",
       "      <td>21551</td>\n",
       "      <td>11292</td>\n",
       "      <td>13065</td>\n",
       "    </tr>\n",
       "  </tbody>\n",
       "</table>\n",
       "</div>"
      ],
      "text/plain": [
       "          cut  color clarity\n",
       "count   53940  53940   53940\n",
       "unique      5      7       8\n",
       "top     Ideal      G     SI1\n",
       "freq    21551  11292   13065"
      ]
     },
     "execution_count": 4,
     "metadata": {},
     "output_type": "execute_result"
    }
   ],
   "source": [
    "# Analysis of Non-numerical columns\n",
    "diamondprediction_eda.describe(include=['O'])"
   ]
  },
  {
   "cell_type": "code",
   "execution_count": 5,
   "metadata": {},
   "outputs": [
    {
     "name": "stdout",
     "output_type": "stream",
     "text": [
      "['Ideal' 'Premium' 'Good' 'Very Good' 'Fair']\n",
      "Type of Cuts: 5\n",
      "cut\n",
      "Ideal        21551\n",
      "Premium      13791\n",
      "Very Good    12082\n",
      "Good          4906\n",
      "Fair          1610\n",
      "Name: count, dtype: int64\n"
     ]
    }
   ],
   "source": [
    "# Cut Types\n",
    "# cut quality of the cut (Fair, Good, Very Good, Premium, Ideal)\n",
    "print(diamondprediction_eda['cut'].unique())\n",
    "print(\"Type of Cuts: %s\" % (diamondprediction_eda['cut'].nunique()))\n",
    "print(diamondprediction_eda['cut'].value_counts())"
   ]
  },
  {
   "cell_type": "code",
   "execution_count": 6,
   "metadata": {},
   "outputs": [
    {
     "data": {
      "text/html": [
       "<div>\n",
       "<style scoped>\n",
       "    .dataframe tbody tr th:only-of-type {\n",
       "        vertical-align: middle;\n",
       "    }\n",
       "\n",
       "    .dataframe tbody tr th {\n",
       "        vertical-align: top;\n",
       "    }\n",
       "\n",
       "    .dataframe thead th {\n",
       "        text-align: right;\n",
       "    }\n",
       "</style>\n",
       "<table border=\"1\" class=\"dataframe\">\n",
       "  <thead>\n",
       "    <tr style=\"text-align: right;\">\n",
       "      <th></th>\n",
       "      <th>Unnamed: 0</th>\n",
       "      <th>carat</th>\n",
       "      <th>cut</th>\n",
       "      <th>color</th>\n",
       "      <th>clarity</th>\n",
       "      <th>depth</th>\n",
       "      <th>table</th>\n",
       "      <th>price</th>\n",
       "      <th>x</th>\n",
       "      <th>y</th>\n",
       "      <th>z</th>\n",
       "      <th>cut_mean_enc</th>\n",
       "      <th>color_mean_enc</th>\n",
       "      <th>clarity_mean_enc</th>\n",
       "    </tr>\n",
       "  </thead>\n",
       "  <tbody>\n",
       "    <tr>\n",
       "      <th>0</th>\n",
       "      <td>1</td>\n",
       "      <td>0.23</td>\n",
       "      <td>Ideal</td>\n",
       "      <td>E</td>\n",
       "      <td>SI2</td>\n",
       "      <td>61.5</td>\n",
       "      <td>55.0</td>\n",
       "      <td>326</td>\n",
       "      <td>3.95</td>\n",
       "      <td>3.98</td>\n",
       "      <td>2.43</td>\n",
       "      <td>3457.541970</td>\n",
       "      <td>3076.752475</td>\n",
       "      <td>5063.028606</td>\n",
       "    </tr>\n",
       "    <tr>\n",
       "      <th>1</th>\n",
       "      <td>2</td>\n",
       "      <td>0.21</td>\n",
       "      <td>Premium</td>\n",
       "      <td>E</td>\n",
       "      <td>SI1</td>\n",
       "      <td>59.8</td>\n",
       "      <td>61.0</td>\n",
       "      <td>326</td>\n",
       "      <td>3.89</td>\n",
       "      <td>3.84</td>\n",
       "      <td>2.31</td>\n",
       "      <td>4584.257704</td>\n",
       "      <td>3076.752475</td>\n",
       "      <td>3996.001148</td>\n",
       "    </tr>\n",
       "  </tbody>\n",
       "</table>\n",
       "</div>"
      ],
      "text/plain": [
       "   Unnamed: 0  carat      cut color clarity  depth  table  price     x     y  \\\n",
       "0           1   0.23    Ideal     E     SI2   61.5   55.0    326  3.95  3.98   \n",
       "1           2   0.21  Premium     E     SI1   59.8   61.0    326  3.89  3.84   \n",
       "\n",
       "      z  cut_mean_enc  color_mean_enc  clarity_mean_enc  \n",
       "0  2.43   3457.541970     3076.752475       5063.028606  \n",
       "1  2.31   4584.257704     3076.752475       3996.001148  "
      ]
     },
     "execution_count": 6,
     "metadata": {},
     "output_type": "execute_result"
    }
   ],
   "source": [
    "# Mean Encoding technique has been choosen to ensure better encoding amoung other technique's based on the above plots.\n",
    "# Verified the top 2 sample data after mean-encoding technique.\n",
    "mean_encode_cut = diamondprediction_eda.groupby('cut')['price'].mean()\n",
    "mean_encode_color = diamondprediction_eda.groupby('color')['price'].mean()\n",
    "mean_encode_clarity = diamondprediction_eda.groupby('clarity')['price'].mean()\n",
    "diamondprediction_eda.loc[:,'cut_mean_enc']=diamondprediction_eda['cut'].map(mean_encode_cut)\n",
    "diamondprediction_eda.loc[:,'color_mean_enc']=diamondprediction_eda['color'].map(mean_encode_color)\n",
    "diamondprediction_eda.loc[:,'clarity_mean_enc']=diamondprediction_eda['clarity'].map(mean_encode_clarity)\n",
    "diamondprediction_eda.head(2)"
   ]
  },
  {
   "cell_type": "code",
   "execution_count": 7,
   "metadata": {},
   "outputs": [
    {
     "data": {
      "text/html": [
       "<div>\n",
       "<style scoped>\n",
       "    .dataframe tbody tr th:only-of-type {\n",
       "        vertical-align: middle;\n",
       "    }\n",
       "\n",
       "    .dataframe tbody tr th {\n",
       "        vertical-align: top;\n",
       "    }\n",
       "\n",
       "    .dataframe thead th {\n",
       "        text-align: right;\n",
       "    }\n",
       "</style>\n",
       "<table border=\"1\" class=\"dataframe\">\n",
       "  <thead>\n",
       "    <tr style=\"text-align: right;\">\n",
       "      <th></th>\n",
       "      <th>Unnamed: 0</th>\n",
       "      <th>carat</th>\n",
       "      <th>depth</th>\n",
       "      <th>table</th>\n",
       "      <th>price</th>\n",
       "      <th>x</th>\n",
       "      <th>y</th>\n",
       "      <th>z</th>\n",
       "      <th>cut</th>\n",
       "      <th>color</th>\n",
       "      <th>clarity</th>\n",
       "    </tr>\n",
       "  </thead>\n",
       "  <tbody>\n",
       "    <tr>\n",
       "      <th>0</th>\n",
       "      <td>1</td>\n",
       "      <td>0.23</td>\n",
       "      <td>61.5</td>\n",
       "      <td>55.0</td>\n",
       "      <td>326</td>\n",
       "      <td>3.95</td>\n",
       "      <td>3.98</td>\n",
       "      <td>2.43</td>\n",
       "      <td>3457.541970</td>\n",
       "      <td>3076.752475</td>\n",
       "      <td>5063.028606</td>\n",
       "    </tr>\n",
       "    <tr>\n",
       "      <th>1</th>\n",
       "      <td>2</td>\n",
       "      <td>0.21</td>\n",
       "      <td>59.8</td>\n",
       "      <td>61.0</td>\n",
       "      <td>326</td>\n",
       "      <td>3.89</td>\n",
       "      <td>3.84</td>\n",
       "      <td>2.31</td>\n",
       "      <td>4584.257704</td>\n",
       "      <td>3076.752475</td>\n",
       "      <td>3996.001148</td>\n",
       "    </tr>\n",
       "  </tbody>\n",
       "</table>\n",
       "</div>"
      ],
      "text/plain": [
       "   Unnamed: 0  carat  depth  table  price     x     y     z          cut  \\\n",
       "0           1   0.23   61.5   55.0    326  3.95  3.98  2.43  3457.541970   \n",
       "1           2   0.21   59.8   61.0    326  3.89  3.84  2.31  4584.257704   \n",
       "\n",
       "         color      clarity  \n",
       "0  3076.752475  5063.028606  \n",
       "1  3076.752475  3996.001148  "
      ]
     },
     "execution_count": 7,
     "metadata": {},
     "output_type": "execute_result"
    }
   ],
   "source": [
    "# Drop categorical variables\n",
    "diamondprediction_eda=diamondprediction_eda.drop(['cut','color','clarity'],axis=1)\n",
    "diamondprediction_eda.rename(columns = {'cut_mean_enc':'cut'}, inplace = True)\n",
    "diamondprediction_eda.rename(columns = {'color_mean_enc':'color'}, inplace = True)\n",
    "diamondprediction_eda.rename(columns = {'clarity_mean_enc':'clarity'}, inplace = True)\n",
    "diamondprediction_eda.head(2)"
   ]
  },
  {
   "cell_type": "code",
   "execution_count": 8,
   "metadata": {},
   "outputs": [
    {
     "name": "stdout",
     "output_type": "stream",
     "text": [
      "(53940, 11)\n",
      "(30326, 11)\n"
     ]
    }
   ],
   "source": [
    "# Removing (statistical) outliers for dataset\n",
    "print(diamondprediction_eda.shape)\n",
    "Q1 = diamondprediction_eda.quantile(0.25) #(0.19485)\n",
    "#print(Q1)\n",
    "Q3 = diamondprediction_eda.quantile(0.75) #(0.80515)\n",
    "#print(Q3)\n",
    "IQR = Q3 - Q1\n",
    "#print(IQR)\n",
    "diamondprediction_eda_outliers = diamondprediction_eda[~((diamondprediction_eda < (Q1 - 1.5 * IQR)) |(diamondprediction_eda > (Q3 + 1.5 * IQR))).any(axis=1)]\n",
    "print(diamondprediction_eda_outliers.shape)"
   ]
  },
  {
   "cell_type": "markdown",
   "metadata": {},
   "source": [
    "## Plotting data"
   ]
  },
  {
   "cell_type": "code",
   "execution_count": 9,
   "metadata": {},
   "outputs": [
    {
     "data": {
      "image/png": "[encoded data removed]",
      "text/plain": [
       "<Figure size 640x480 with 2 Axes>"
      ]
     },
     "metadata": {},
     "output_type": "display_data"
    }
   ],
   "source": [
    "import seaborn as sns # for statistical plotting\n",
    "import matplotlib.pyplot as plt # for plotting\n",
    "\n",
    "# Generated HeatMap after removal of outliers and you can see the difference clearly here.\n",
    "corr = diamondprediction_eda_outliers.corr()\n",
    "ax = sns.heatmap( corr,vmin=-1, vmax=1, center=0,  cmap=sns.diverging_palette(20, 220, n=200),square=True)\n",
    "ax.set_xticklabels(ax.get_xticklabels(),rotation=45,horizontalalignment='right');"
   ]
  },
  {
   "cell_type": "markdown",
   "metadata": {},
   "source": [
    "## Model definition"
   ]
  },
  {
   "cell_type": "code",
   "execution_count": 10,
   "metadata": {},
   "outputs": [],
   "source": [
    "X=diamondprediction_eda_outliers.drop(['price'],axis=1)\n",
    "Y=diamondprediction_eda_outliers['price']\n",
    "\n",
    "from sklearn.model_selection import train_test_split\n",
    "\n",
    "X_train,X_test,y_train,y_test=train_test_split(X,Y,test_size=0.3,random_state=42)"
   ]
  },
  {
   "cell_type": "code",
   "execution_count": 13,
   "metadata": {},
   "outputs": [
    {
     "ename": "ModuleNotFoundError",
     "evalue": "No module named 'lightgbm'",
     "output_type": "error",
     "traceback": [
      "\u001b[0;31m---------------------------------------------------------------------------\u001b[0m",
      "\u001b[0;31mModuleNotFoundError\u001b[0m                       Traceback (most recent call last)",
      "Cell \u001b[0;32mIn[13], line 1\u001b[0m\n\u001b[0;32m----> 1\u001b[0m \u001b[38;5;28;01mimport\u001b[39;00m\u001b[38;5;250m \u001b[39m\u001b[38;5;21;01mlightgbm\u001b[39;00m\n\u001b[1;32m      2\u001b[0m \u001b[38;5;28;01mfrom\u001b[39;00m\u001b[38;5;250m \u001b[39m\u001b[38;5;21;01msklearn\u001b[39;00m\u001b[38;5;21;01m.\u001b[39;00m\u001b[38;5;21;01mmodel_selection\u001b[39;00m\u001b[38;5;250m \u001b[39m\u001b[38;5;28;01mimport\u001b[39;00m cross_val_score\n\u001b[1;32m      4\u001b[0m \u001b[38;5;66;03m# LightGBM Regressor\u001b[39;00m\n",
      "\u001b[0;31mModuleNotFoundError\u001b[0m: No module named 'lightgbm'"
     ]
    }
   ],
   "source": [
    "import lightgbm\n",
    "from sklearn.model_selection import cross_val_score\n",
    "\n",
    "# LightGBM Regressor\n",
    "lgbm_reg = lightgbm.LGBMRegressor()\n",
    "lgbm_reg.fit(X_train, y_train)\n",
    "\n",
    "# Cross-validation\n",
    "cross_validation_accuracy = cross_val_score(estimator=lgbm_reg, X=X_train, y=y_train, cv=5, verbose=1)\n",
    "\n",
    "# Predictions\n",
    "y_pred = lgbm_reg.predict(X_test)"
   ]
  },
  {
   "cell_type": "markdown",
   "metadata": {},
   "source": [
    "## Model evaulation"
   ]
  },
  {
   "cell_type": "code",
   "execution_count": null,
   "metadata": {},
   "outputs": [
    {
     "name": "stdout",
     "output_type": "stream",
     "text": [
      "Mean Squared Error (MSE): 1305385.8342316994\n",
      "Root Mean Squared Error (RMSE): 1142.5348284545637\n",
      "Mean Absolute Error (MAE): 396.01415695757305\n",
      "R-squared (R2): 0.8297239754333654\n"
     ]
    }
   ],
   "source": [
    "from sklearn.metrics import mean_squared_error, r2_score, mean_absolute_error\n",
    "import numpy as np\n",
    "\n",
    "# Evaluation metrics\n",
    "mse = mean_squared_error(y_test, y_pred)  # Mean Squared Error\n",
    "rmse = np.sqrt(mse)  # Root Mean Squared Error\n",
    "mae = mean_absolute_error(y_test, y_pred)  # Mean Absolute Error\n",
    "r2 = r2_score(y_test, y_pred)  # R-squared\n",
    "\n",
    "# Print evaluation results\n",
    "print(f'Mean Squared Error (MSE): {mse}')\n",
    "print(f'Root Mean Squared Error (RMSE): {rmse}')\n",
    "print(f'Mean Absolute Error (MAE): {mae}')\n",
    "print(f'R-squared (R2): {r2}')"
   ]
  },
  {
   "cell_type": "code",
   "execution_count": null,
   "metadata": {},
   "outputs": [],
   "source": []
  }
 ],
 "metadata": {
  "kernelspec": {
   "display_name": "myenv",
   "language": "python",
   "name": "python3"
  },
  "language_info": {
   "codemirror_mode": {
    "name": "ipython",
    "version": 3
   },
   "file_extension": ".py",
   "mimetype": "text/x-python",
   "name": "python",
   "nbconvert_exporter": "python",
   "pygments_lexer": "ipython3",
   "version": "3.12.3"
  }
 },
 "nbformat": 4,
 "nbformat_minor": 2
}
